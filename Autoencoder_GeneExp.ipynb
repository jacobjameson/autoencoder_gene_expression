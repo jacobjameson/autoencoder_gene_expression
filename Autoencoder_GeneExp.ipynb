{
 "cells": [
  {
   "cell_type": "markdown",
   "metadata": {},
   "source": [
    "# Autoencoder for Gene Expression Data\n",
    "### CMSC 35300 Mathematical Foundations of Machine Learning -  Final project"
   ]
  },
  {
   "cell_type": "markdown",
   "metadata": {},
   "source": [
    "### Authors: Jacob Jameson and Hugo Salas"
   ]
  },
  {
   "cell_type": "markdown",
   "metadata": {},
   "source": [
    "In this notebook, we build an autoencoder neural network that takes gene expression data from protein-coding genes only, encodes them through multiple layers of decreasing dimensions, and then decodes them back the original dimensionality as what was inputted."
   ]
  },
  {
   "cell_type": "code",
   "execution_count": 326,
   "metadata": {},
   "outputs": [],
   "source": [
    "### Importing all relevant modules\n",
    "import getpass\n",
    "import gzip\n",
    "import shutil\n",
    "import pandas as pd\n",
    "import os\n",
    "import numpy as np\n",
    "from sklearn import preprocessing\n",
    "from sklearn.manifold import TSNE\n",
    "import seaborn as sns\n",
    "from sklearn import decomposition\n",
    "\n",
    "%matplotlib inline \n",
    "\n",
    "from keras.layers import Input, Dense\n",
    "from keras.models import Model\n",
    "from keras import optimizers\n",
    "from sklearn.model_selection import train_test_split\n",
    "from sklearn.preprocessing import StandardScaler, Normalizer\n",
    "from keras.utils.vis_utils import plot_model"
   ]
  },
  {
   "cell_type": "markdown",
   "metadata": {},
   "source": [
    "## 1) Importing data"
   ]
  },
  {
   "cell_type": "markdown",
   "metadata": {},
   "source": [
    "In the code below, I import the RNA sequence samples and create a dataframe where each row is one sample and the columns are the genes in that sample. I used 137 female samples to construct my dataset. This data comes from the NCI Genomic Data Commons at the University of Chicago portal (see GDC folder to obtain the data). The code below loops through the data already downloaded to open and merge it together.**"
   ]
  },
  {
   "cell_type": "code",
   "execution_count": 105,
   "metadata": {},
   "outputs": [],
   "source": [
    "#Establish the directory of the relevant files\n",
    "if getpass.getuser() == 'hugo3':\n",
    "    directory = r\"C:\\Users\\hugo3\\Downloads\\GDC Data\"\n",
    "elif getpass.getuser() == 'jacob':\n",
    "    directory = \"/Users/jacob/Downloads/ML for Medicine/Assignment 2/gdc_download_20211025_201031.006887\""
   ]
  },
  {
   "cell_type": "code",
   "execution_count": 106,
   "metadata": {},
   "outputs": [],
   "source": [
    "# Get a list of folders within directory\n",
    "folder_names = []\n",
    "for filename in os.listdir(directory):\n",
    "    if os.path.isdir(os.path.join(directory, filename)):\n",
    "        folder_names.append(os.path.join(directory, filename))\n",
    "        \n",
    "# Get a list of files within folders inside the directory\n",
    "file_names = [] \n",
    "for folder in folder_names:\n",
    "    for filename in os.listdir(folder):\n",
    "        if filename.endswith(\".gz\"):\n",
    "            file_names.append(os.path.join(folder, filename))"
   ]
  },
  {
   "cell_type": "code",
   "execution_count": 107,
   "metadata": {},
   "outputs": [],
   "source": [
    "#Import each dataset and filter unnecessary rows\n",
    "for n, file in enumerate(file_names):\n",
    "    with gzip.open(file, 'rb') as f_in:\n",
    "        with open(file + '.txt', 'wb') as f_out:\n",
    "            shutil.copyfileobj(f_in, f_out)\n",
    "            \n",
    "    data = pd.read_csv(file + '.txt', sep='\\t', \n",
    "                       header=None).rename(columns={0: \"Gene\", 1: \"Sample\"})\n",
    "    data.drop(data.tail(5).index,inplace=True)\n",
    "    data = data.rename(columns={\"Sample\": \"Sample \" + str(n + 1)})\n",
    "    if n > 0:\n",
    "        grouped_df = data.merge(grouped_df, how='left', on='Gene')\n",
    "    else:\n",
    "        grouped_df = data\n",
    "        \n",
    "grouped_df = grouped_df.set_index('Gene')\n",
    "final_data = grouped_df.T"
   ]
  },
  {
   "cell_type": "code",
   "execution_count": 108,
   "metadata": {},
   "outputs": [
    {
     "name": "stdout",
     "output_type": "stream",
     "text": [
      "(137, 60483)\n"
     ]
    },
    {
     "data": {
      "text/html": [
       "<div>\n",
       "<style scoped>\n",
       "    .dataframe tbody tr th:only-of-type {\n",
       "        vertical-align: middle;\n",
       "    }\n",
       "\n",
       "    .dataframe tbody tr th {\n",
       "        vertical-align: top;\n",
       "    }\n",
       "\n",
       "    .dataframe thead th {\n",
       "        text-align: right;\n",
       "    }\n",
       "</style>\n",
       "<table border=\"1\" class=\"dataframe\">\n",
       "  <thead>\n",
       "    <tr style=\"text-align: right;\">\n",
       "      <th>Gene</th>\n",
       "      <th>ENSG00000000003.13</th>\n",
       "      <th>ENSG00000000005.5</th>\n",
       "      <th>ENSG00000000419.11</th>\n",
       "      <th>ENSG00000000457.12</th>\n",
       "      <th>ENSG00000000460.15</th>\n",
       "      <th>ENSG00000000938.11</th>\n",
       "      <th>ENSG00000000971.14</th>\n",
       "      <th>ENSG00000001036.12</th>\n",
       "      <th>ENSG00000001084.9</th>\n",
       "      <th>ENSG00000001167.13</th>\n",
       "      <th>...</th>\n",
       "      <th>ENSGR0000263980.4</th>\n",
       "      <th>ENSGR0000264510.4</th>\n",
       "      <th>ENSGR0000264819.4</th>\n",
       "      <th>ENSGR0000265658.4</th>\n",
       "      <th>ENSGR0000270726.4</th>\n",
       "      <th>ENSGR0000275287.3</th>\n",
       "      <th>ENSGR0000276543.3</th>\n",
       "      <th>ENSGR0000277120.3</th>\n",
       "      <th>ENSGR0000280767.1</th>\n",
       "      <th>ENSGR0000281849.1</th>\n",
       "    </tr>\n",
       "  </thead>\n",
       "  <tbody>\n",
       "    <tr>\n",
       "      <th>Sample 137</th>\n",
       "      <td>3549</td>\n",
       "      <td>0</td>\n",
       "      <td>4385</td>\n",
       "      <td>1776</td>\n",
       "      <td>251</td>\n",
       "      <td>228</td>\n",
       "      <td>6412</td>\n",
       "      <td>8858</td>\n",
       "      <td>3251</td>\n",
       "      <td>1614</td>\n",
       "      <td>...</td>\n",
       "      <td>0</td>\n",
       "      <td>0</td>\n",
       "      <td>0</td>\n",
       "      <td>0</td>\n",
       "      <td>0</td>\n",
       "      <td>0</td>\n",
       "      <td>0</td>\n",
       "      <td>0</td>\n",
       "      <td>0</td>\n",
       "      <td>0</td>\n",
       "    </tr>\n",
       "    <tr>\n",
       "      <th>Sample 136</th>\n",
       "      <td>3901</td>\n",
       "      <td>0</td>\n",
       "      <td>4442</td>\n",
       "      <td>1489</td>\n",
       "      <td>1133</td>\n",
       "      <td>212</td>\n",
       "      <td>2426</td>\n",
       "      <td>4387</td>\n",
       "      <td>2457</td>\n",
       "      <td>2646</td>\n",
       "      <td>...</td>\n",
       "      <td>0</td>\n",
       "      <td>0</td>\n",
       "      <td>0</td>\n",
       "      <td>0</td>\n",
       "      <td>0</td>\n",
       "      <td>0</td>\n",
       "      <td>0</td>\n",
       "      <td>0</td>\n",
       "      <td>0</td>\n",
       "      <td>0</td>\n",
       "    </tr>\n",
       "    <tr>\n",
       "      <th>Sample 135</th>\n",
       "      <td>875</td>\n",
       "      <td>0</td>\n",
       "      <td>1921</td>\n",
       "      <td>1329</td>\n",
       "      <td>351</td>\n",
       "      <td>282</td>\n",
       "      <td>2222</td>\n",
       "      <td>6421</td>\n",
       "      <td>3887</td>\n",
       "      <td>3454</td>\n",
       "      <td>...</td>\n",
       "      <td>0</td>\n",
       "      <td>0</td>\n",
       "      <td>0</td>\n",
       "      <td>0</td>\n",
       "      <td>0</td>\n",
       "      <td>0</td>\n",
       "      <td>0</td>\n",
       "      <td>0</td>\n",
       "      <td>0</td>\n",
       "      <td>0</td>\n",
       "    </tr>\n",
       "    <tr>\n",
       "      <th>Sample 134</th>\n",
       "      <td>9047</td>\n",
       "      <td>18</td>\n",
       "      <td>7146</td>\n",
       "      <td>924</td>\n",
       "      <td>805</td>\n",
       "      <td>1618</td>\n",
       "      <td>3017</td>\n",
       "      <td>6053</td>\n",
       "      <td>4437</td>\n",
       "      <td>2741</td>\n",
       "      <td>...</td>\n",
       "      <td>0</td>\n",
       "      <td>0</td>\n",
       "      <td>0</td>\n",
       "      <td>0</td>\n",
       "      <td>0</td>\n",
       "      <td>0</td>\n",
       "      <td>0</td>\n",
       "      <td>0</td>\n",
       "      <td>0</td>\n",
       "      <td>0</td>\n",
       "    </tr>\n",
       "    <tr>\n",
       "      <th>Sample 133</th>\n",
       "      <td>1431</td>\n",
       "      <td>0</td>\n",
       "      <td>1606</td>\n",
       "      <td>847</td>\n",
       "      <td>469</td>\n",
       "      <td>1147</td>\n",
       "      <td>5573</td>\n",
       "      <td>3123</td>\n",
       "      <td>2322</td>\n",
       "      <td>2101</td>\n",
       "      <td>...</td>\n",
       "      <td>0</td>\n",
       "      <td>0</td>\n",
       "      <td>0</td>\n",
       "      <td>0</td>\n",
       "      <td>0</td>\n",
       "      <td>0</td>\n",
       "      <td>0</td>\n",
       "      <td>0</td>\n",
       "      <td>0</td>\n",
       "      <td>0</td>\n",
       "    </tr>\n",
       "    <tr>\n",
       "      <th>...</th>\n",
       "      <td>...</td>\n",
       "      <td>...</td>\n",
       "      <td>...</td>\n",
       "      <td>...</td>\n",
       "      <td>...</td>\n",
       "      <td>...</td>\n",
       "      <td>...</td>\n",
       "      <td>...</td>\n",
       "      <td>...</td>\n",
       "      <td>...</td>\n",
       "      <td>...</td>\n",
       "      <td>...</td>\n",
       "      <td>...</td>\n",
       "      <td>...</td>\n",
       "      <td>...</td>\n",
       "      <td>...</td>\n",
       "      <td>...</td>\n",
       "      <td>...</td>\n",
       "      <td>...</td>\n",
       "      <td>...</td>\n",
       "      <td>...</td>\n",
       "    </tr>\n",
       "    <tr>\n",
       "      <th>Sample 5</th>\n",
       "      <td>1057</td>\n",
       "      <td>9</td>\n",
       "      <td>1801</td>\n",
       "      <td>924</td>\n",
       "      <td>669</td>\n",
       "      <td>847</td>\n",
       "      <td>4307</td>\n",
       "      <td>3823</td>\n",
       "      <td>1601</td>\n",
       "      <td>1451</td>\n",
       "      <td>...</td>\n",
       "      <td>0</td>\n",
       "      <td>0</td>\n",
       "      <td>0</td>\n",
       "      <td>0</td>\n",
       "      <td>0</td>\n",
       "      <td>0</td>\n",
       "      <td>0</td>\n",
       "      <td>0</td>\n",
       "      <td>0</td>\n",
       "      <td>0</td>\n",
       "    </tr>\n",
       "    <tr>\n",
       "      <th>Sample 4</th>\n",
       "      <td>1393</td>\n",
       "      <td>0</td>\n",
       "      <td>1881</td>\n",
       "      <td>235</td>\n",
       "      <td>277</td>\n",
       "      <td>267</td>\n",
       "      <td>1239</td>\n",
       "      <td>1300</td>\n",
       "      <td>5601</td>\n",
       "      <td>992</td>\n",
       "      <td>...</td>\n",
       "      <td>0</td>\n",
       "      <td>0</td>\n",
       "      <td>0</td>\n",
       "      <td>0</td>\n",
       "      <td>0</td>\n",
       "      <td>0</td>\n",
       "      <td>0</td>\n",
       "      <td>0</td>\n",
       "      <td>0</td>\n",
       "      <td>0</td>\n",
       "    </tr>\n",
       "    <tr>\n",
       "      <th>Sample 3</th>\n",
       "      <td>860</td>\n",
       "      <td>20</td>\n",
       "      <td>2203</td>\n",
       "      <td>1037</td>\n",
       "      <td>221</td>\n",
       "      <td>428</td>\n",
       "      <td>4456</td>\n",
       "      <td>2803</td>\n",
       "      <td>4271</td>\n",
       "      <td>1456</td>\n",
       "      <td>...</td>\n",
       "      <td>0</td>\n",
       "      <td>0</td>\n",
       "      <td>0</td>\n",
       "      <td>0</td>\n",
       "      <td>0</td>\n",
       "      <td>0</td>\n",
       "      <td>0</td>\n",
       "      <td>0</td>\n",
       "      <td>0</td>\n",
       "      <td>0</td>\n",
       "    </tr>\n",
       "    <tr>\n",
       "      <th>Sample 2</th>\n",
       "      <td>3942</td>\n",
       "      <td>5</td>\n",
       "      <td>2760</td>\n",
       "      <td>1397</td>\n",
       "      <td>526</td>\n",
       "      <td>663</td>\n",
       "      <td>1728</td>\n",
       "      <td>6999</td>\n",
       "      <td>6560</td>\n",
       "      <td>5344</td>\n",
       "      <td>...</td>\n",
       "      <td>0</td>\n",
       "      <td>0</td>\n",
       "      <td>0</td>\n",
       "      <td>0</td>\n",
       "      <td>0</td>\n",
       "      <td>0</td>\n",
       "      <td>0</td>\n",
       "      <td>0</td>\n",
       "      <td>0</td>\n",
       "      <td>0</td>\n",
       "    </tr>\n",
       "    <tr>\n",
       "      <th>Sample 1</th>\n",
       "      <td>4749</td>\n",
       "      <td>8</td>\n",
       "      <td>4415</td>\n",
       "      <td>982</td>\n",
       "      <td>958</td>\n",
       "      <td>208</td>\n",
       "      <td>1795</td>\n",
       "      <td>3290</td>\n",
       "      <td>2418</td>\n",
       "      <td>3083</td>\n",
       "      <td>...</td>\n",
       "      <td>0</td>\n",
       "      <td>0</td>\n",
       "      <td>0</td>\n",
       "      <td>0</td>\n",
       "      <td>0</td>\n",
       "      <td>0</td>\n",
       "      <td>0</td>\n",
       "      <td>0</td>\n",
       "      <td>0</td>\n",
       "      <td>0</td>\n",
       "    </tr>\n",
       "  </tbody>\n",
       "</table>\n",
       "<p>137 rows × 60483 columns</p>\n",
       "</div>"
      ],
      "text/plain": [
       "Gene        ENSG00000000003.13  ENSG00000000005.5  ENSG00000000419.11  \\\n",
       "Sample 137                3549                  0                4385   \n",
       "Sample 136                3901                  0                4442   \n",
       "Sample 135                 875                  0                1921   \n",
       "Sample 134                9047                 18                7146   \n",
       "Sample 133                1431                  0                1606   \n",
       "...                        ...                ...                 ...   \n",
       "Sample 5                  1057                  9                1801   \n",
       "Sample 4                  1393                  0                1881   \n",
       "Sample 3                   860                 20                2203   \n",
       "Sample 2                  3942                  5                2760   \n",
       "Sample 1                  4749                  8                4415   \n",
       "\n",
       "Gene        ENSG00000000457.12  ENSG00000000460.15  ENSG00000000938.11  \\\n",
       "Sample 137                1776                 251                 228   \n",
       "Sample 136                1489                1133                 212   \n",
       "Sample 135                1329                 351                 282   \n",
       "Sample 134                 924                 805                1618   \n",
       "Sample 133                 847                 469                1147   \n",
       "...                        ...                 ...                 ...   \n",
       "Sample 5                   924                 669                 847   \n",
       "Sample 4                   235                 277                 267   \n",
       "Sample 3                  1037                 221                 428   \n",
       "Sample 2                  1397                 526                 663   \n",
       "Sample 1                   982                 958                 208   \n",
       "\n",
       "Gene        ENSG00000000971.14  ENSG00000001036.12  ENSG00000001084.9  \\\n",
       "Sample 137                6412                8858               3251   \n",
       "Sample 136                2426                4387               2457   \n",
       "Sample 135                2222                6421               3887   \n",
       "Sample 134                3017                6053               4437   \n",
       "Sample 133                5573                3123               2322   \n",
       "...                        ...                 ...                ...   \n",
       "Sample 5                  4307                3823               1601   \n",
       "Sample 4                  1239                1300               5601   \n",
       "Sample 3                  4456                2803               4271   \n",
       "Sample 2                  1728                6999               6560   \n",
       "Sample 1                  1795                3290               2418   \n",
       "\n",
       "Gene        ENSG00000001167.13  ...  ENSGR0000263980.4  ENSGR0000264510.4  \\\n",
       "Sample 137                1614  ...                  0                  0   \n",
       "Sample 136                2646  ...                  0                  0   \n",
       "Sample 135                3454  ...                  0                  0   \n",
       "Sample 134                2741  ...                  0                  0   \n",
       "Sample 133                2101  ...                  0                  0   \n",
       "...                        ...  ...                ...                ...   \n",
       "Sample 5                  1451  ...                  0                  0   \n",
       "Sample 4                   992  ...                  0                  0   \n",
       "Sample 3                  1456  ...                  0                  0   \n",
       "Sample 2                  5344  ...                  0                  0   \n",
       "Sample 1                  3083  ...                  0                  0   \n",
       "\n",
       "Gene        ENSGR0000264819.4  ENSGR0000265658.4  ENSGR0000270726.4  \\\n",
       "Sample 137                  0                  0                  0   \n",
       "Sample 136                  0                  0                  0   \n",
       "Sample 135                  0                  0                  0   \n",
       "Sample 134                  0                  0                  0   \n",
       "Sample 133                  0                  0                  0   \n",
       "...                       ...                ...                ...   \n",
       "Sample 5                    0                  0                  0   \n",
       "Sample 4                    0                  0                  0   \n",
       "Sample 3                    0                  0                  0   \n",
       "Sample 2                    0                  0                  0   \n",
       "Sample 1                    0                  0                  0   \n",
       "\n",
       "Gene        ENSGR0000275287.3  ENSGR0000276543.3  ENSGR0000277120.3  \\\n",
       "Sample 137                  0                  0                  0   \n",
       "Sample 136                  0                  0                  0   \n",
       "Sample 135                  0                  0                  0   \n",
       "Sample 134                  0                  0                  0   \n",
       "Sample 133                  0                  0                  0   \n",
       "...                       ...                ...                ...   \n",
       "Sample 5                    0                  0                  0   \n",
       "Sample 4                    0                  0                  0   \n",
       "Sample 3                    0                  0                  0   \n",
       "Sample 2                    0                  0                  0   \n",
       "Sample 1                    0                  0                  0   \n",
       "\n",
       "Gene        ENSGR0000280767.1  ENSGR0000281849.1  \n",
       "Sample 137                  0                  0  \n",
       "Sample 136                  0                  0  \n",
       "Sample 135                  0                  0  \n",
       "Sample 134                  0                  0  \n",
       "Sample 133                  0                  0  \n",
       "...                       ...                ...  \n",
       "Sample 5                    0                  0  \n",
       "Sample 4                    0                  0  \n",
       "Sample 3                    0                  0  \n",
       "Sample 2                    0                  0  \n",
       "Sample 1                    0                  0  \n",
       "\n",
       "[137 rows x 60483 columns]"
      ]
     },
     "execution_count": 108,
     "metadata": {},
     "output_type": "execute_result"
    }
   ],
   "source": [
    "#Preview of newly imported dataset: rows are samples and columns are the count of each gene\n",
    "print(final_data.shape)\n",
    "final_data"
   ]
  },
  {
   "cell_type": "markdown",
   "metadata": {},
   "source": [
    "## 2) Pre-processing the data\n",
    "\n",
    "We only keep genes that are protein encoding genes"
   ]
  },
  {
   "cell_type": "code",
   "execution_count": 109,
   "metadata": {},
   "outputs": [],
   "source": [
    "nt_coding = pd.read_csv(directory + '\\\\nt.coding.csv')"
   ]
  },
  {
   "cell_type": "code",
   "execution_count": 110,
   "metadata": {},
   "outputs": [],
   "source": [
    "nt_coding = pd.read_csv(directory + '\\\\nt.coding.csv') #list of protein encoding genes\n",
    "nt_coding.drop('Type', axis=1, inplace=True)\n",
    "final_data_pr = final_data[list(nt_coding.columns)]"
   ]
  },
  {
   "cell_type": "code",
   "execution_count": 111,
   "metadata": {},
   "outputs": [
    {
     "name": "stdout",
     "output_type": "stream",
     "text": [
      "(137, 19561)\n"
     ]
    }
   ],
   "source": [
    "print(final_data_pr.shape) #Reduced number of columns from 60,483 to 19,561"
   ]
  },
  {
   "cell_type": "markdown",
   "metadata": {},
   "source": [
    "## 3) Train/test split and data normalization"
   ]
  },
  {
   "cell_type": "code",
   "execution_count": 112,
   "metadata": {},
   "outputs": [],
   "source": [
    "X_train, X_test = train_test_split(final_data_pr, \n",
    "                                   test_size=0.3, \n",
    "                                   random_state=1)\n",
    "scaler = Normalizer()\n",
    "\n",
    "X_train = scaler.fit_transform(X_train)\n",
    "X_test = scaler.transform(X_test)"
   ]
  },
  {
   "cell_type": "code",
   "execution_count": 282,
   "metadata": {},
   "outputs": [],
   "source": [
    "mins = pd.DataFrame(X_train).min()\n",
    "maxs = pd.DataFrame(X_train).max()"
   ]
  },
  {
   "cell_type": "code",
   "execution_count": 284,
   "metadata": {},
   "outputs": [
    {
     "data": {
      "text/plain": [
       "count    19561.000000\n",
       "mean         0.005470\n",
       "std          0.021972\n",
       "min          0.000000\n",
       "25%          0.000267\n",
       "50%          0.001557\n",
       "75%          0.004370\n",
       "max          0.819698\n",
       "dtype: float64"
      ]
     },
     "execution_count": 284,
     "metadata": {},
     "output_type": "execute_result"
    }
   ],
   "source": [
    "maxs.describe() #Distribution of maximum values across all genes/columns/features"
   ]
  },
  {
   "cell_type": "code",
   "execution_count": 283,
   "metadata": {},
   "outputs": [
    {
     "data": {
      "text/plain": [
       "count    19561.000000\n",
       "mean         0.000150\n",
       "std          0.001186\n",
       "min          0.000000\n",
       "25%          0.000000\n",
       "50%          0.000020\n",
       "75%          0.000130\n",
       "max          0.112032\n",
       "dtype: float64"
      ]
     },
     "execution_count": 283,
     "metadata": {},
     "output_type": "execute_result"
    }
   ],
   "source": [
    "mins.describe() #Distribution of minimum values across all genes/columns/features"
   ]
  },
  {
   "cell_type": "markdown",
   "metadata": {},
   "source": [
    "The range across all our features is between 0 and 0.81. This means that we should constrain the output of our model so that it matches something similar to this. Sigmoid, for instance, would restrict our output so that it ranges from 0 to 1. This is not exactly what we want, but it's close. So we can use that as the activation function of our last layer. "
   ]
  },
  {
   "cell_type": "markdown",
   "metadata": {},
   "source": [
    "## 4) Train Neural Network\n",
    "\n",
    "### a) Initial model: 5 layers, bottleneck layer with 50 nodes and ReLU as activation function for most layers\n",
    "First, lets try with a neural network with 5 layers, a ReLU activation function is used in each layer except the output layer, which uses a Sigmoid function (so that output stays from 0 to 1). We use Binary Cross-Entropy as the loss function to be minimized. "
   ]
  },
  {
   "cell_type": "code",
   "execution_count": 115,
   "metadata": {},
   "outputs": [
    {
     "name": "stdout",
     "output_type": "stream",
     "text": [
      "Epoch 1/40\n",
      "10/10 [==============================] - 0s 28ms/step - loss: 0.6904\n",
      "Epoch 2/40\n",
      "10/10 [==============================] - 0s 29ms/step - loss: 0.5848\n",
      "Epoch 3/40\n",
      "10/10 [==============================] - 0s 30ms/step - loss: 0.0744\n",
      "Epoch 4/40\n",
      "10/10 [==============================] - 0s 29ms/step - loss: 0.0219\n",
      "Epoch 5/40\n",
      "10/10 [==============================] - 0s 30ms/step - loss: 0.0247\n",
      "Epoch 6/40\n",
      "10/10 [==============================] - 0s 30ms/step - loss: 0.0190\n",
      "Epoch 7/40\n",
      "10/10 [==============================] - 0s 29ms/step - loss: 0.0137\n",
      "Epoch 8/40\n",
      "10/10 [==============================] - 0s 29ms/step - loss: 0.0108\n",
      "Epoch 9/40\n",
      "10/10 [==============================] - 0s 31ms/step - loss: 0.0095\n",
      "Epoch 10/40\n",
      "10/10 [==============================] - 0s 30ms/step - loss: 0.0091\n",
      "Epoch 11/40\n",
      "10/10 [==============================] - 0s 31ms/step - loss: 0.0090\n",
      "Epoch 12/40\n",
      "10/10 [==============================] - 0s 30ms/step - loss: 0.0089\n",
      "Epoch 13/40\n",
      "10/10 [==============================] - 0s 30ms/step - loss: 0.0088\n",
      "Epoch 14/40\n",
      "10/10 [==============================] - 0s 30ms/step - loss: 0.0088\n",
      "Epoch 15/40\n",
      "10/10 [==============================] - 0s 28ms/step - loss: 0.0088\n",
      "Epoch 16/40\n",
      "10/10 [==============================] - 0s 29ms/step - loss: 0.0087\n",
      "Epoch 17/40\n",
      "10/10 [==============================] - 0s 30ms/step - loss: 0.0086\n",
      "Epoch 18/40\n",
      "10/10 [==============================] - 0s 30ms/step - loss: 0.0086\n",
      "Epoch 19/40\n",
      "10/10 [==============================] - 0s 30ms/step - loss: 0.0085\n",
      "Epoch 20/40\n",
      "10/10 [==============================] - 0s 28ms/step - loss: 0.0085\n",
      "Epoch 21/40\n",
      "10/10 [==============================] - 0s 30ms/step - loss: 0.0084\n",
      "Epoch 22/40\n",
      "10/10 [==============================] - 0s 29ms/step - loss: 0.0083\n",
      "Epoch 23/40\n",
      "10/10 [==============================] - 0s 29ms/step - loss: 0.0082\n",
      "Epoch 24/40\n",
      "10/10 [==============================] - 0s 29ms/step - loss: 0.0080\n",
      "Epoch 25/40\n",
      "10/10 [==============================] - 0s 29ms/step - loss: 0.0079\n",
      "Epoch 26/40\n",
      "10/10 [==============================] - 0s 29ms/step - loss: 0.0077\n",
      "Epoch 27/40\n",
      "10/10 [==============================] - 0s 29ms/step - loss: 0.0075\n",
      "Epoch 28/40\n",
      "10/10 [==============================] - 0s 30ms/step - loss: 0.0073\n",
      "Epoch 29/40\n",
      "10/10 [==============================] - 0s 29ms/step - loss: 0.0072\n",
      "Epoch 30/40\n",
      "10/10 [==============================] - 0s 29ms/step - loss: 0.0072\n",
      "Epoch 31/40\n",
      "10/10 [==============================] - 0s 29ms/step - loss: 0.0072\n",
      "Epoch 32/40\n",
      "10/10 [==============================] - 0s 29ms/step - loss: 0.0072\n",
      "Epoch 33/40\n",
      "10/10 [==============================] - 0s 29ms/step - loss: 0.0071\n",
      "Epoch 34/40\n",
      "10/10 [==============================] - 0s 29ms/step - loss: 0.0071\n",
      "Epoch 35/40\n",
      "10/10 [==============================] - 0s 28ms/step - loss: 0.0071\n",
      "Epoch 36/40\n",
      "10/10 [==============================] - 0s 28ms/step - loss: 0.0071\n",
      "Epoch 37/40\n",
      "10/10 [==============================] - 0s 29ms/step - loss: 0.0071\n",
      "Epoch 38/40\n",
      "10/10 [==============================] - 0s 28ms/step - loss: 0.0071\n",
      "Epoch 39/40\n",
      "10/10 [==============================] - 0s 29ms/step - loss: 0.0071\n",
      "Epoch 40/40\n",
      "10/10 [==============================] - 0s 29ms/step - loss: 0.0071\n"
     ]
    },
    {
     "data": {
      "text/plain": [
       "<tensorflow.python.keras.callbacks.History at 0x28997874d60>"
      ]
     },
     "execution_count": 115,
     "metadata": {},
     "output_type": "execute_result"
    }
   ],
   "source": [
    "input_layer = Input(shape=(X_train.shape[1],))\n",
    "encoded = Dense(256, activation='relu')(input_layer)\n",
    "encoded = Dense(128, activation='relu')(encoded)\n",
    "encoded = Dense(50, activation='relu')(encoded)\n",
    "decoded = Dense(128, activation='relu')(encoded)\n",
    "decoded = Dense(256, activation='relu')(decoded)\n",
    "decoded = Dense(X_train.shape[1], activation='sigmoid')(decoded)\n",
    "\n",
    "autoencoder = Model(input_layer, decoded)\n",
    "autoencoder.compile(optimizer='adam', loss='binary_crossentropy')\n",
    "\n",
    "autoencoder.fit(X_train, X_train, epochs=40, batch_size=10, verbose = 1)"
   ]
  },
  {
   "cell_type": "code",
   "execution_count": 116,
   "metadata": {},
   "outputs": [
    {
     "name": "stdout",
     "output_type": "stream",
     "text": [
      "Model: \"functional_45\"\n",
      "_________________________________________________________________\n",
      "Layer (type)                 Output Shape              Param #   \n",
      "=================================================================\n",
      "input_23 (InputLayer)        [(None, 19561)]           0         \n",
      "_________________________________________________________________\n",
      "dense_132 (Dense)            (None, 256)               5007872   \n",
      "_________________________________________________________________\n",
      "dense_133 (Dense)            (None, 128)               32896     \n",
      "_________________________________________________________________\n",
      "dense_134 (Dense)            (None, 50)                6450      \n",
      "_________________________________________________________________\n",
      "dense_135 (Dense)            (None, 128)               6528      \n",
      "_________________________________________________________________\n",
      "dense_136 (Dense)            (None, 256)               33024     \n",
      "_________________________________________________________________\n",
      "dense_137 (Dense)            (None, 19561)             5027177   \n",
      "=================================================================\n",
      "Total params: 10,113,947\n",
      "Trainable params: 10,113,947\n",
      "Non-trainable params: 0\n",
      "_________________________________________________________________\n",
      "None\n"
     ]
    }
   ],
   "source": [
    "print(autoencoder.summary()) # A review of the nodes in each layer."
   ]
  },
  {
   "cell_type": "code",
   "execution_count": null,
   "metadata": {},
   "outputs": [],
   "source": [
    "autoencoder.evaluate(X_test, X_test, verbose=2) #Loss generated by our model"
   ]
  },
  {
   "cell_type": "markdown",
   "metadata": {},
   "source": [
    "### b) Varying number of layers, bottleneck size and activation function\n",
    "Now, lets see which combination of layers, bottleneck size and activation function yields the best result. "
   ]
  },
  {
   "cell_type": "code",
   "execution_count": 163,
   "metadata": {},
   "outputs": [],
   "source": [
    "#Values that will be used for iteration\n",
    "bottleneck_size = [10, 30, 50, 70, 90, 100]\n",
    "layers = {5: [256, 128], 7: [512, 256, 128], 9: [1024, 512, 256, 128]}\n",
    "act_fn = ['relu', 'linear', 'sigmoid']\n",
    "\n",
    "#Empty dictionaries where results will be stored\n",
    "losses = dict()\n",
    "nn_results = dict()"
   ]
  },
  {
   "cell_type": "code",
   "execution_count": null,
   "metadata": {},
   "outputs": [],
   "source": [
    "input_layer = Input(shape=(X_train.shape[1],))\n",
    "for layer, nodes in layers.items():\n",
    "    for act in act_fn:\n",
    "        losses[act + \"_l\" + str(layer)] = []\n",
    "        for size in bottleneck_size:\n",
    "            #print(act + \"_s\" + str(size) + \"_l\" + str(layer))\n",
    "            encoded = Dense(nodes[0], activation = act)(input_layer)\n",
    "            encoded = Dense(nodes[1], activation = act)(encoded)\n",
    "            if layer == 7 or layer == 9:\n",
    "                encoded = Dense(nodes[2], activation = act)(encoded)\n",
    "                if layer == 9:\n",
    "                    encoded = Dense(nodes[3], activation = act)(encoded)\n",
    "            \n",
    "            encoded = Dense(size, activation = act)(encoded) #Bottleneck\n",
    "            \n",
    "            if layer == 9 or layer == 7:\n",
    "                if layer == 9:\n",
    "                    decoded = Dense(nodes[3], activation = act)(encoded)\n",
    "                decoded = Dense(nodes[2], activation = act)(encoded)\n",
    "            decoded = Dense(nodes[1], activation = act)(encoded)\n",
    "            decoded = Dense(nodes[0], activation = act)(decoded)\n",
    "            decoded = Dense(X_train.shape[1], activation='sigmoid')(decoded)\n",
    "\n",
    "            autoencoder = Model(input_layer, decoded)\n",
    "            autoencoder.compile(optimizer='adam', loss='binary_crossentropy')\n",
    "            autoencoder.fit(X_train, X_train, epochs=40, batch_size=10, verbose = 0)\n",
    "\n",
    "            nn_results[act + \"_s\" + str(size) + \"_l\" + str(layer)] = autoencoder\n",
    "            losses[act + \"_l\" + str(layer)].append(autoencoder.evaluate(X_test, X_test, verbose=0))"
   ]
  },
  {
   "cell_type": "code",
   "execution_count": 194,
   "metadata": {},
   "outputs": [],
   "source": [
    "colors = {\"linear\": '#845EC2', \"relu\": '#FF6F91', \"sigmoid\": '#FFC75F'}\n",
    "lstyle = {5: \"solid\", 7: \"dotted\", 9: \"dashed\"}"
   ]
  },
  {
   "cell_type": "code",
   "execution_count": 281,
   "metadata": {},
   "outputs": [
    {
     "data": {
      "image/png": "[encoded data removed]",
      "text/plain": [
       "<Figure size 720x360 with 1 Axes>"
      ]
     },
     "metadata": {},
     "output_type": "display_data"
    }
   ],
   "source": [
    "sns.set(rc={\"figure.figsize\":(10, 5), 'figure.facecolor':'white', 'axes.facecolor': \"white\"})\n",
    "sns.despine(offset=10, trim=True)\n",
    "sns.set_context(\"notebook\", font_scale=1.3, rc={\"lines.linewidth\": 2.5})\n",
    "for type, loss in losses.items():\n",
    "    act_lay = type.split('_l')\n",
    "    if act_lay[1] == '5' or act_lay[0] == \"relu\":\n",
    "        label = type\n",
    "    else:\n",
    "        label = '_nolegend_'\n",
    "    sns.lineplot(x=bottleneck_size, y=loss, color = colors[act_lay[0]],\n",
    "                 linestyle = lstyle[int(act_lay[1])], label = label)\n",
    "\n",
    "plt.xticks(list(range(10, 110, 10)))\n",
    "plt.xlabel(\"Bottleneck size\", fontsize = 15)\n",
    "plt.ylabel(\"Loss\", fontsize = 15)\n",
    "plt.legend(labels=[\"Linear\",\"ReLU\", \"Sigmoid\", \"7 layers\", '9 layers'],  \n",
    "           frameon=False, ncol = 2)\n",
    "plt.suptitle('Encoder loss by bottleneck size, layers and activation function',\n",
    "            fontsize = 18, horizontalalignment = 'center')\n",
    "\n",
    "plt.savefig('`NN_lay_act_bsize_loss.png', dpi=300)"
   ]
  },
  {
   "cell_type": "code",
   "execution_count": 319,
   "metadata": {},
   "outputs": [],
   "source": [
    "encoded_bestfit = nn_results['sigmoid_s100_l9'].predict(pd.DataFrame(X_train).append(pd.DataFrame(X_test)))"
   ]
  },
  {
   "cell_type": "markdown",
   "metadata": {},
   "source": [
    "## 5) Encoded data vs raw data\n",
    "We can now compare the output of our best model to our raw data. To make this easier, we will use PCA. This will help us reduce the number of dimensions used and could therefore plot the data better."
   ]
  },
  {
   "cell_type": "code",
   "execution_count": 342,
   "metadata": {},
   "outputs": [],
   "source": [
    "from sklearn.decomposition import PCA\n",
    "pca = PCA(n_components=2)\n",
    "pca_encoded = pca.fit_transform(encoded_bestfit)\n",
    "pca_raw = pca.fit_transform(scaler.fit_transform(final_data_pr))"
   ]
  },
  {
   "cell_type": "code",
   "execution_count": 366,
   "metadata": {},
   "outputs": [
    {
     "data": {
      "text/plain": [
       "array([[1.        , 0.17443096],\n",
       "       [0.17443096, 1.        ]])"
      ]
     },
     "execution_count": 366,
     "metadata": {},
     "output_type": "execute_result"
    }
   ],
   "source": [
    "np.corrcoef(pca_encoded[:,0], pca_raw[:,0])"
   ]
  },
  {
   "cell_type": "code",
   "execution_count": 367,
   "metadata": {},
   "outputs": [
    {
     "data": {
      "text/plain": [
       "array([[ 1.        , -0.04433886],\n",
       "       [-0.04433886,  1.        ]])"
      ]
     },
     "execution_count": 367,
     "metadata": {},
     "output_type": "execute_result"
    }
   ],
   "source": [
    "np.corrcoef(pca_encoded[:,1], pca_raw[:,1])"
   ]
  },
  {
   "cell_type": "code",
   "execution_count": 387,
   "metadata": {},
   "outputs": [
    {
     "data": {
      "image/png": "[encoded data removed]",
      "text/plain": [
       "<Figure size 432x288 with 1 Axes>"
      ]
     },
     "metadata": {
      "needs_background": "light"
     },
     "output_type": "display_data"
    }
   ],
   "source": [
    "sns.scatterplot(x = pca_encoded[:,0], y = pca_encoded[:,1], color = '#FF6F91')\n",
    "plt.xlabel(\"1st principal component\", fontsize = 15)\n",
    "plt.ylabel(\"2nd principal component\", fontsize = 15)\n",
    "plt.suptitle('PCA on encoded data',\n",
    "            fontsize = 18, horizontalalignment = 'center')\n",
    "plt.savefig('PCA_encoded.png', dpi=300)"
   ]
  },
  {
   "cell_type": "code",
   "execution_count": 385,
   "metadata": {
    "scrolled": true
   },
   "outputs": [
    {
     "data": {
      "image/png": "[encoded data removed]",
      "text/plain": [
       "<Figure size 432x288 with 1 Axes>"
      ]
     },
     "metadata": {
      "needs_background": "light"
     },
     "output_type": "display_data"
    }
   ],
   "source": [
    "sns.scatterplot(x = pca_raw[:,0], y = pca_raw[:,1], color = \"#FFC75F\")\n",
    "plt.xlabel(\"1st principal component\", fontsize = 15)\n",
    "plt.ylabel(\"2nd principal component\", fontsize = 15)\n",
    "plt.suptitle('PCA on raw data', fontsize = 18)\n",
    "plt.savefig('PCA_raw.pdf', dpi=300)"
   ]
  }
 ],
 "metadata": {
  "kernelspec": {
   "display_name": "Python 3",
   "language": "python",
   "name": "python3"
  },
  "language_info": {
   "codemirror_mode": {
    "name": "ipython",
    "version": 3
   },
   "file_extension": ".py",
   "mimetype": "text/x-python",
   "name": "python",
   "nbconvert_exporter": "python",
   "pygments_lexer": "ipython3",
   "version": "3.8.8"
  }
 },
 "nbformat": 4,
 "nbformat_minor": 4
}
